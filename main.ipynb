{
 "cells": [
  {
   "cell_type": "code",
   "execution_count": null,
   "metadata": {
    "colab": {
     "base_uri": "https://localhost:8080/"
    },
    "id": "mVUUp99wZPxT",
    "outputId": "ef76f215-5bc9-4c7a-88b7-21729600c6b3"
   },
   "outputs": [],
   "source": [
    "from google.colab import drive\n",
    "drive.mount('/content/drive')"
   ]
  },
  {
   "cell_type": "code",
   "execution_count": null,
   "metadata": {
    "id": "QwrUhkfTeL0x"
   },
   "outputs": [],
   "source": [
    "from tensorflow.keras.utils import load_img\n",
    "from tensorflow.keras.saving import load_model\n",
    "from tensorflow import expand_dims\n",
    "from tensorflow.nn import softmax\n",
    "\n",
    "from matplotlib import pyplot as plt\n",
    "import numpy as np\n"
   ]
  },
  {
   "cell_type": "code",
   "execution_count": null,
   "metadata": {
    "colab": {
     "base_uri": "https://localhost:8080/"
    },
    "id": "nP_oXijNfNYH",
    "outputId": "a2b4ae58-e82b-4c3d-a940-5b3631be82a7"
   },
   "outputs": [],
   "source": [
    "with open(class_name_path, 'r') as f_clss, open(img_shape_path, 'r') as f_shape:\n",
    "    class_names: list = list(eval(f_clss.read()))\n",
    "    img_shape: tuple = tuple(eval(f_shape.read()))\n",
    "\n",
    "    f_clss.close()\n",
    "    f_shape.close()\n",
    "\n",
    "print(class_names)\n",
    "print(img_shape)"
   ]
  },
  {
   "cell_type": "code",
   "execution_count": null,
   "metadata": {
    "id": "7twv6G7BhVxX"
   },
   "outputs": [],
   "source": [
    "W, H = img_shape[0], img_shape[1]\n",
    "\n",
    "img_path = '/content/banana2.jpeg'\n",
    "model_path = '/content/drive/MyDrive/MODELS/FR360/fruits_recognition_cls_141_img_70000_epochs_19.keras'\n",
    "\n",
    "class_name_path = '/content/class_names.txt'\n",
    "img_shape_path = '/content/img_shape.txt'"
   ]
  },
  {
   "cell_type": "markdown",
   "metadata": {
    "id": "HORGMapTZ3yY"
   },
   "source": [
    "# Prediction"
   ]
  },
  {
   "cell_type": "code",
   "execution_count": null,
   "metadata": {
    "colab": {
     "base_uri": "https://localhost:8080/",
     "height": 423
    },
    "id": "llecjUkCZzbx",
    "outputId": "e1950eef-4064-40b7-9181-2b5d68c17e80"
   },
   "outputs": [],
   "source": [
    "image = load_img(img_path, target_size=(W, H))\n",
    "\n",
    "plt.imshow(image)\n",
    "plt.axis('off')"
   ]
  },
  {
   "cell_type": "code",
   "execution_count": null,
   "metadata": {
    "colab": {
     "base_uri": "https://localhost:8080/"
    },
    "id": "iMRT8FrgZ78g",
    "outputId": "a0f9ad1a-dfe2-442e-bfa8-e855213a0bbd"
   },
   "outputs": [],
   "source": [
    "img = expand_dims(image, 0)\n",
    "img.shape # requierd shape for prediction..."
   ]
  },
  {
   "cell_type": "code",
   "execution_count": null,
   "metadata": {
    "colab": {
     "base_uri": "https://localhost:8080/",
     "height": 1000
    },
    "id": "8YP3IWxYg-OY",
    "outputId": "fd602fc5-4a2d-48e6-a8bf-c09dee52f64d"
   },
   "outputs": [],
   "source": [
    "model = load_model(model_path)"
   ]
  },
  {
   "cell_type": "code",
   "execution_count": null,
   "metadata": {
    "id": "IOLqrnHPZ9Mh"
   },
   "outputs": [],
   "source": [
    "predict = model.predict(img)"
   ]
  },
  {
   "cell_type": "code",
   "execution_count": null,
   "metadata": {
    "id": "JsX_L6r9Z_a2"
   },
   "outputs": [],
   "source": [
    "score = softmax(predict)"
   ]
  },
  {
   "cell_type": "code",
   "execution_count": null,
   "metadata": {
    "id": "_s9qOzrJaAj4"
   },
   "outputs": [],
   "source": [
    "print(\"This is a/an {} with accuracy of {:0.2f}\".format(class_names[np.argmax(score)], np.max(score)*100))"
   ]
  }
 ],
 "metadata": {
  "colab": {
   "provenance": []
  },
  "kernelspec": {
   "display_name": "Python 3",
   "name": "python3"
  },
  "language_info": {
   "name": "python"
  }
 },
 "nbformat": 4,
 "nbformat_minor": 0
}
